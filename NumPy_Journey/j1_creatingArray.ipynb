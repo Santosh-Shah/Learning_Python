{
 "cells": [
  {
   "cell_type": "code",
   "execution_count": 1,
   "metadata": {},
   "outputs": [
    {
     "name": "stdout",
     "output_type": "stream",
     "text": [
      "[ 1  5 50  7  9]\n",
      "<class 'numpy.ndarray'>\n"
     ]
    }
   ],
   "source": [
    "import numpy as np\n",
    "\n",
    "\n",
    "arr = np.array([1, 5, 50, 7, 9])\n",
    "\n",
    "print(arr)\n",
    "\n",
    "print(type(arr))\n",
    "\n"
   ]
  },
  {
   "cell_type": "code",
   "execution_count": 2,
   "metadata": {},
   "outputs": [
    {
     "name": "stdout",
     "output_type": "stream",
     "text": [
      "['Santosh' 'Hariom' 'Radhe Shyam']\n"
     ]
    }
   ],
   "source": [
    "import numpy as np\n",
    "\n",
    "arr = np.array((\"Santosh\", \"Hariom\", \"Radhe Shyam\"))\n",
    "print(arr)"
   ]
  },
  {
   "cell_type": "code",
   "execution_count": 3,
   "metadata": {},
   "outputs": [
    {
     "name": "stdout",
     "output_type": "stream",
     "text": [
      "42\n"
     ]
    }
   ],
   "source": [
    "import numpy as np\n",
    "\n",
    "# 0-D Arrays\n",
    "arr = np.array(42)\n",
    "print(arr)"
   ]
  },
  {
   "cell_type": "code",
   "execution_count": 4,
   "metadata": {},
   "outputs": [
    {
     "name": "stdout",
     "output_type": "stream",
     "text": [
      "[42  4  6  7  8  9]\n"
     ]
    }
   ],
   "source": [
    "import numpy as np\n",
    "\n",
    "# 1-D Arrays\n",
    "arr = np.array([42, 4, 6, 7, 8, 9])\n",
    "print(arr)"
   ]
  },
  {
   "cell_type": "code",
   "execution_count": 10,
   "metadata": {},
   "outputs": [
    {
     "name": "stdout",
     "output_type": "stream",
     "text": [
      "[['42' '4' '6']\n",
      " ['Ram' 'Hanuman' 'Laxman']]\n"
     ]
    }
   ],
   "source": [
    "import numpy as np\n",
    "\n",
    "# 2-D Arrays\n",
    "arr = np.array([[42, 4, 6], [\"Ram\", \"Hanuman\", \"Laxman\"]])\n",
    "print(arr)"
   ]
  },
  {
   "cell_type": "code",
   "execution_count": 14,
   "metadata": {},
   "outputs": [
    {
     "name": "stdout",
     "output_type": "stream",
     "text": [
      "[['42' '4' '6']\n",
      " ['Ram' 'Hanuman' 'Laxman']\n",
      " ['420' '400' '600']]\n"
     ]
    }
   ],
   "source": [
    "import numpy as np\n",
    "\n",
    "# 3-D Arrays\n",
    "arr = np.array([[42, 4, 6], [\"Ram\", \"Hanuman\", \"Laxman\"], [420, 400, 600]])\n",
    "print(arr)"
   ]
  },
  {
   "cell_type": "code",
   "execution_count": 16,
   "metadata": {},
   "outputs": [
    {
     "name": "stdout",
     "output_type": "stream",
     "text": [
      "3\n",
      "2\n",
      "1\n",
      "0\n"
     ]
    }
   ],
   "source": [
    "import numpy as np\n",
    "\n",
    "# check number of dimension\n",
    "arr1 = np.array([[[42, 4, 6], [\"Ram\", \"Hanuman\", \"Laxman\"], [420, 400, 600]]])\n",
    "arr2 = np.array([[42, 4, 6], [\"Ram\", \"Hanuman\", \"Laxman\"]])\n",
    "arr3 = np.array([42, 4, 6, 7, 8, 9])\n",
    "arr4 = np.array(42)\n",
    "print(arr1.ndim)\n",
    "print(arr2.ndim)\n",
    "print(arr3.ndim)\n",
    "print(arr4.ndim)\n"
   ]
  },
  {
   "cell_type": "code",
   "execution_count": 19,
   "metadata": {},
   "outputs": [
    {
     "name": "stdout",
     "output_type": "stream",
     "text": [
      "[[[[[1 2 3 4]]]]]\n",
      "<class 'numpy.ndarray'>\n",
      "Number of dim:  5\n"
     ]
    }
   ],
   "source": [
    "import numpy as np\n",
    "\n",
    "\n",
    "# Higher Dimensional Arrays using - \"ndmin\"\n",
    "arr = np.array([1, 2, 3, 4], ndmin=5)\n",
    "print(arr)\n",
    "print(type(arr))\n",
    "print(\"Number of dim: \", arr.ndim)"
   ]
  }
 ],
 "metadata": {
  "kernelspec": {
   "display_name": "Python 3",
   "language": "python",
   "name": "python3"
  },
  "language_info": {
   "codemirror_mode": {
    "name": "ipython",
    "version": 3
   },
   "file_extension": ".py",
   "mimetype": "text/x-python",
   "name": "python",
   "nbconvert_exporter": "python",
   "pygments_lexer": "ipython3",
   "version": "3.12.1"
  }
 },
 "nbformat": 4,
 "nbformat_minor": 2
}
