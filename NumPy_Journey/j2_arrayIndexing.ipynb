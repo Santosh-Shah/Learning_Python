{
 "cells": [
  {
   "cell_type": "code",
   "execution_count": 3,
   "metadata": {},
   "outputs": [
    {
     "name": "stdout",
     "output_type": "stream",
     "text": [
      "3\n",
      "8\n"
     ]
    }
   ],
   "source": [
    "import numpy as np\n",
    "\n",
    "arr = np.array([3, 4, 5, 6, 7])\n",
    "print(arr[0])\n",
    "print(arr[0] + arr[2])\n"
   ]
  },
  {
   "cell_type": "code",
   "execution_count": 7,
   "metadata": {},
   "outputs": [
    {
     "name": "stdout",
     "output_type": "stream",
     "text": [
      "2d array elements:  78\n"
     ]
    }
   ],
   "source": [
    "import numpy as np\n",
    "\n",
    "\n",
    "# Access 2-D Arrays\n",
    "arr = np.array([[4, 4, 5, 3], [54, 65, 78, 90]])\n",
    "print(\"2d array elements, first element is row index and  2nd element is index of elements: \", arr[1, 2])"
   ]
  },
  {
   "cell_type": "code",
   "execution_count": null,
   "metadata": {},
   "outputs": [],
   "source": [
    "import numpy as np\n",
    "\n",
    "\n",
    "# Access 2-D Arrays\n",
    "arr = np.array([[4, 4, 5, 3], [54, 65, 78, 90]])\n",
    "print(\"2d array elements, first element is row index and  2nd element is index of elements: \", arr[1, 2])"
   ]
  },
  {
   "cell_type": "code",
   "execution_count": 11,
   "metadata": {},
   "outputs": [
    {
     "name": "stdout",
     "output_type": "stream",
     "text": [
      "3d array elements 99\n",
      "3d array elements 78\n"
     ]
    }
   ],
   "source": [
    "import numpy as np\n",
    "\n",
    "\n",
    "# Access 3-D Arrays\n",
    "arr = np.array([[[4, 4, 5, 3], [54, 65, 78, 90]], [[11, 22, 33, 44], [77, 88, 99, 00]]])\n",
    "print(\"3d array elements\", arr[1, 1, 2])\n",
    "print(\"3d array elements\", arr[0, 1, -2])"
   ]
  }
 ],
 "metadata": {
  "kernelspec": {
   "display_name": "Python 3",
   "language": "python",
   "name": "python3"
  },
  "language_info": {
   "codemirror_mode": {
    "name": "ipython",
    "version": 3
   },
   "file_extension": ".py",
   "mimetype": "text/x-python",
   "name": "python",
   "nbconvert_exporter": "python",
   "pygments_lexer": "ipython3",
   "version": "3.12.1"
  }
 },
 "nbformat": 4,
 "nbformat_minor": 2
}
