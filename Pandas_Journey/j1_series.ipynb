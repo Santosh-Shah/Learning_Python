{
 "cells": [
  {
   "cell_type": "code",
   "execution_count": 3,
   "metadata": {},
   "outputs": [
    {
     "name": "stdout",
     "output_type": "stream",
     "text": [
      "a    5\n",
      "b    4\n",
      "c    3\n",
      "dtype: int64\n",
      "4\n"
     ]
    }
   ],
   "source": [
    "import pandas as pd\n",
    "\n",
    "a = [5, 4, 3]\n",
    "# myData = pd.Series(a)\n",
    "# print(myData[2])\n",
    "\n",
    "# creating our own labes of index\n",
    "myData = pd.Series(a, index = [\"a\", \"b\", \"c\"])\n",
    "\n",
    "print(myData)\n",
    "\n",
    "print(myData[\"b\"])\n"
   ]
  },
  {
   "cell_type": "code",
   "execution_count": 10,
   "metadata": {},
   "outputs": [
    {
     "name": "stdout",
     "output_type": "stream",
     "text": [
      "jr2    444\n",
      "jr3    788\n",
      "jr1    240\n",
      "dtype: int64\n"
     ]
    }
   ],
   "source": [
    "# import pandas as pd\n",
    "\n",
    "\n",
    "\n",
    "# Key/Value Objects as Series\n",
    "# You can also use a key/value object, like a dictionary, when creating a Series.\n",
    "\n",
    "myJourney = {\"jr1\": 240, \"jr2\": 444, \"jr3\": 788}\n",
    "myJr = pd.Series(myJourney, index = [\"jr2\", \"jr3\", \"jr1\"])\n",
    "print(myJr)\n",
    "# print(myJr[\"jr1\"])\n"
   ]
  },
  {
   "cell_type": "code",
   "execution_count": 11,
   "metadata": {},
   "outputs": [
    {
     "name": "stdout",
     "output_type": "stream",
     "text": [
      "   calories  duration\n",
      "0       420        20\n",
      "1       450        30\n",
      "2       600        50\n"
     ]
    }
   ],
   "source": [
    "data = {\n",
    "  \"calories\": [420, 450, 600],\n",
    "  \"duration\": [20, 30, 50]\n",
    "}\n",
    "\n",
    "myVar = pd.DataFrame(data)\n",
    "print(myVar)\n"
   ]
  }
 ],
 "metadata": {
  "kernelspec": {
   "display_name": "Python 3",
   "language": "python",
   "name": "python3"
  },
  "language_info": {
   "codemirror_mode": {
    "name": "ipython",
    "version": 3
   },
   "file_extension": ".py",
   "mimetype": "text/x-python",
   "name": "python",
   "nbconvert_exporter": "python",
   "pygments_lexer": "ipython3",
   "version": "3.11.7"
  }
 },
 "nbformat": 4,
 "nbformat_minor": 2
}
