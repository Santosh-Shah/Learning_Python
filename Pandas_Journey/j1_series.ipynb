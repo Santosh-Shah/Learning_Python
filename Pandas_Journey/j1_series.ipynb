{
 "cells": [
  {
   "cell_type": "code",
   "execution_count": 9,
   "metadata": {},
   "outputs": [
    {
     "name": "stdout",
     "output_type": "stream",
     "text": [
      "a    5\n",
      "b    4\n",
      "c    3\n",
      "dtype: int64\n",
      "4\n"
     ]
    }
   ],
   "source": [
    "import pandas as pd\n",
    "\n",
    "a = [5, 4, 3]\n",
    "# myData = pd.Series(a)\n",
    "\n",
    "# creating our own labes of index\n",
    "myData = pd.Series(a, index = [\"a\", \"b\", \"c\"])\n",
    "\n",
    "print(myData)\n",
    "\n",
    "print(myData[\"b\"])\n"
   ]
  },
  {
   "cell_type": "code",
   "execution_count": 2,
   "metadata": {},
   "outputs": [
    {
     "name": "stdout",
     "output_type": "stream",
     "text": [
      "jr1    240\n",
      "jr2    444\n",
      "dtype: int64\n"
     ]
    }
   ],
   "source": [
    "# import pandas as pd\n",
    "\n",
    "\n",
    "\n",
    "# Key/Value Objects as Series\n",
    "# You can also use a key/value object, like a dictionary, when creating a Series.\n",
    "\n",
    "myJourney = {\"jr1\": 240, \"jr2\": 444, \"jr3\": 788}\n",
    "myJr = pd.Series(myJourney, index = [\"jr1\", \"jr2\"])\n",
    "print(myJr)\n",
    "# print(myJr[\"jr1\"])\n"
   ]
  }
 ],
 "metadata": {
  "kernelspec": {
   "display_name": "Python 3",
   "language": "python",
   "name": "python3"
  },
  "language_info": {
   "codemirror_mode": {
    "name": "ipython",
    "version": 3
   },
   "file_extension": ".py",
   "mimetype": "text/x-python",
   "name": "python",
   "nbconvert_exporter": "python",
   "pygments_lexer": "ipython3",
   "version": "3.12.1"
  }
 },
 "nbformat": 4,
 "nbformat_minor": 2
}
