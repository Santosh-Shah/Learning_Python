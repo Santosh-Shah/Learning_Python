{
 "cells": [
  {
   "cell_type": "code",
   "execution_count": 1,
   "metadata": {},
   "outputs": [
    {
     "name": "stdout",
     "output_type": "stream",
     "text": [
      "   Ram  Shyam  Hari\n",
      "0   19     11   111\n",
      "1   20     22   222\n",
      "2   35     44   444\n"
     ]
    },
    {
     "name": "stderr",
     "output_type": "stream",
     "text": [
      "C:\\Users\\shasa\\AppData\\Local\\Temp\\ipykernel_6432\\2977987242.py:1: DeprecationWarning: \n",
      "Pyarrow will become a required dependency of pandas in the next major release of pandas (pandas 3.0),\n",
      "(to allow more performant data types, such as the Arrow string type, and better interoperability with other libraries)\n",
      "but was not found to be installed on your system.\n",
      "If this would cause problems for you,\n",
      "please provide us feedback at https://github.com/pandas-dev/pandas/issues/54466\n",
      "        \n",
      "  import pandas as pd\n"
     ]
    }
   ],
   "source": [
    "import pandas as pd\n",
    "\n",
    "data = {\n",
    "  \"Ram\": [19, 20, 35],\n",
    "  \"Shyam\": [11, 22, 44],\n",
    "  \"Hari\": [111, 222, 444]\n",
    "}\n",
    "\n",
    "#loading the data into a DataFrame object\n",
    "df = pd.DataFrame(data)\n",
    "print(df)"
   ]
  },
  {
   "cell_type": "code",
   "execution_count": 7,
   "metadata": {},
   "outputs": [
    {
     "name": "stdout",
     "output_type": "stream",
     "text": [
      "   Ram  Shyam  Hari\n",
      "1   20     22   222\n",
      "2   35     44   444\n"
     ]
    }
   ],
   "source": [
    "data = {\n",
    "  \"Ram\": [19, 20, 35],\n",
    "  \"Shyam\": [11, 22, 44],\n",
    "  \"Hari\": [111, 222, 444]\n",
    "}\n",
    "\n",
    "#loading the data into a DataFrame object\n",
    "df = pd.DataFrame(data)\n",
    "print(df.loc[[1, 2]])"
   ]
  },
  {
   "cell_type": "code",
   "execution_count": 9,
   "metadata": {},
   "outputs": [
    {
     "name": "stdout",
     "output_type": "stream",
     "text": [
      "      Ram  Shyam  Hari\n",
      "day1   19     11   111\n",
      "day2   20     22   222\n",
      "day3   35     44   444\n"
     ]
    }
   ],
   "source": [
    "# naming my own index\n",
    "data = {\n",
    "  \"Ram\": [19, 20, 35],\n",
    "  \"Shyam\": [11, 22, 44],\n",
    "  \"Hari\": [111, 222, 444]\n",
    "}\n",
    "\n",
    "df = pd.DataFrame(data, index = [\"day1\", \"day2\", \"day3\"])\n",
    "print(df)\n"
   ]
  },
  {
   "cell_type": "code",
   "execution_count": 10,
   "metadata": {},
   "outputs": [
    {
     "name": "stdout",
     "output_type": "stream",
     "text": [
      "Ram       35\n",
      "Shyam     44\n",
      "Hari     444\n",
      "Name: day3, dtype: int64\n"
     ]
    }
   ],
   "source": [
    "#Locate Named Indexes\n",
    "data = {\n",
    "  \"Ram\": [19, 20, 35],\n",
    "  \"Shyam\": [11, 22, 44],\n",
    "  \"Hari\": [111, 222, 444]\n",
    "}\n",
    "\n",
    "pd.DataFrame(data, index = [\"day1\", \"day2\", \"day3\"])\n",
    "print(df.loc[\"day3\"])\n"
   ]
  },
  {
   "cell_type": "code",
   "execution_count": 28,
   "metadata": {},
   "outputs": [
    {
     "name": "stdout",
     "output_type": "stream",
     "text": [
      "           Duration  Pulse  Maxpulse  Calories\n",
      "0     0          60    110       130     409.1\n",
      "1     1          60    117       145     479.0\n",
      "2     2          60    103       135     340.0\n",
      "3     3          45    109       175     282.4\n",
      "4     4          45    117       148     406.0\n",
      "5     ..        ...    ...       ...       ...\n",
      "6     164        60    105       140     290.8\n",
      "7     165        60    110       145     300.4\n",
      "8     166        60    115       145     310.2\n",
      "9     167        75    120       150     320.4\n",
      "10    168        75    125       150     330.4\n"
     ]
    }
   ],
   "source": [
    "df = pd.read_csv(\"C:\\pythonClass\\data\\data.csv\")\n",
    "\n",
    "print(df)"
   ]
  }
 ],
 "metadata": {
  "kernelspec": {
   "display_name": "Python 3",
   "language": "python",
   "name": "python3"
  },
  "language_info": {
   "codemirror_mode": {
    "name": "ipython",
    "version": 3
   },
   "file_extension": ".py",
   "mimetype": "text/x-python",
   "name": "python",
   "nbconvert_exporter": "python",
   "pygments_lexer": "ipython3",
   "version": "3.11.7"
  }
 },
 "nbformat": 4,
 "nbformat_minor": 2
}
